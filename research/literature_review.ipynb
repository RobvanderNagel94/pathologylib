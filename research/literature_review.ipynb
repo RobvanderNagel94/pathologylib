{
 "cells": [
  {
   "cell_type": "markdown",
   "id": "17a76475",
   "metadata": {},
   "source": [
   ]
  },
  {
   "cell_type": "code",
   "execution_count": 1,
   "id": "ab6bc33b",
   "metadata": {},
   "outputs": [],
   "source": [
    "import pandas as pd\n",
    "import matplotlib.pyplot as plt\n",
    "import numpy as np"
   ]
  },
  {
   "cell_type": "markdown",
   "id": "9dedb5ed",
   "metadata": {},
   "source": [
    "### Phase 1: initial search"
   ]
  },
  {
   "cell_type": "code",
   "execution_count": 2,
   "id": "dec310a1",
   "metadata": {},
   "outputs": [
    {
     "name": "stdout",
     "output_type": "stream",
     "text": [
      "Total papers: 2484\n"
     ]
    },
    {
     "data": {
      "text/html": [
       "<div>\n",
       "<style scoped>\n",
       "    .dataframe tbody tr th:only-of-type {\n",
       "        vertical-align: middle;\n",
       "    }\n",
       "\n",
       "    .dataframe tbody tr th {\n",
       "        vertical-align: top;\n",
       "    }\n",
       "\n",
       "    .dataframe thead th {\n",
       "        text-align: right;\n",
       "    }\n",
       "</style>\n",
       "<table border=\"1\" class=\"dataframe\">\n",
       "  <thead>\n",
       "    <tr style=\"text-align: right;\">\n",
       "      <th></th>\n",
       "      <th>id</th>\n",
       "      <th>title</th>\n",
       "      <th>authors</th>\n",
       "      <th>journal</th>\n",
       "      <th>year</th>\n",
       "      <th>source</th>\n",
       "    </tr>\n",
       "  </thead>\n",
       "  <tbody>\n",
       "    <tr>\n",
       "      <th>0</th>\n",
       "      <td>1</td>\n",
       "      <td>visibility graph analysis of speech evoked aud...</td>\n",
       "      <td>mozaffarilegha m., adeli h.</td>\n",
       "      <td>neuroscience letters</td>\n",
       "      <td>2019</td>\n",
       "      <td>scopus</td>\n",
       "    </tr>\n",
       "    <tr>\n",
       "      <th>1</th>\n",
       "      <td>2</td>\n",
       "      <td>revisiting the “paradox of stereotaxic surgery...</td>\n",
       "      <td>magnusson j.l., leventhal d.k.</td>\n",
       "      <td>frontiers in systems neuroscience</td>\n",
       "      <td>2021</td>\n",
       "      <td>scopus</td>\n",
       "    </tr>\n",
       "    <tr>\n",
       "      <th>2</th>\n",
       "      <td>3</td>\n",
       "      <td>mapping autonomic, mood and cognitive effects ...</td>\n",
       "      <td>neudorfer c., elias g.j.b., jakobs m., boutet ...</td>\n",
       "      <td>brain</td>\n",
       "      <td>2021</td>\n",
       "      <td>scopus</td>\n",
       "    </tr>\n",
       "    <tr>\n",
       "      <th>3</th>\n",
       "      <td>4</td>\n",
       "      <td>going deep into schizophrenia with artificial ...</td>\n",
       "      <td>cortes-briones j.a., tapia-rivas n.i., d'souza...</td>\n",
       "      <td>schizophrenia research</td>\n",
       "      <td>2021</td>\n",
       "      <td>scopus</td>\n",
       "    </tr>\n",
       "    <tr>\n",
       "      <th>4</th>\n",
       "      <td>5</td>\n",
       "      <td>an introduction to cognitive psychology: proce...</td>\n",
       "      <td>groome d., brace n., edgar g., edgar h., eysen...</td>\n",
       "      <td>an introduction to cognitive psychology: proce...</td>\n",
       "      <td>2021</td>\n",
       "      <td>scopus</td>\n",
       "    </tr>\n",
       "  </tbody>\n",
       "</table>\n",
       "</div>"
      ],
      "text/plain": [
       "   id                                              title  \\\n",
       "0   1  visibility graph analysis of speech evoked aud...   \n",
       "1   2  revisiting the “paradox of stereotaxic surgery...   \n",
       "2   3  mapping autonomic, mood and cognitive effects ...   \n",
       "3   4  going deep into schizophrenia with artificial ...   \n",
       "4   5  an introduction to cognitive psychology: proce...   \n",
       "\n",
       "                                             authors  \\\n",
       "0                        mozaffarilegha m., adeli h.   \n",
       "1                     magnusson j.l., leventhal d.k.   \n",
       "2  neudorfer c., elias g.j.b., jakobs m., boutet ...   \n",
       "3  cortes-briones j.a., tapia-rivas n.i., d'souza...   \n",
       "4  groome d., brace n., edgar g., edgar h., eysen...   \n",
       "\n",
       "                                             journal  year  source  \n",
       "0                               neuroscience letters  2019  scopus  \n",
       "1                  frontiers in systems neuroscience  2021  scopus  \n",
       "2                                              brain  2021  scopus  \n",
       "3                             schizophrenia research  2021  scopus  \n",
       "4  an introduction to cognitive psychology: proce...  2021  scopus  "
      ]
     },
     "execution_count": 2,
     "metadata": {},
     "output_type": "execute_result"
    }
   ],
   "source": [
    "df = pd.read_csv('search_result0.csv', index_col=False)\n",
    "print('Total papers:',df.shape[0])\n",
    "df.head(5)"
   ]
  },
  {
   "cell_type": "markdown",
   "id": "b1c66d3f",
   "metadata": {},
   "source": [
    "The initial search results was visualized using a word-cloud:\n",
    "<img src=\"wordcloud.png\"/>"
   ]
  },
  {
   "cell_type": "code",
   "execution_count": 3,
   "id": "fdbbe842",
   "metadata": {},
   "outputs": [
    {
     "data": {
      "image/png": "[encoded data removed]",
      "text/plain": [
       "<Figure size 432x288 with 1 Axes>"
      ]
     },
     "metadata": {
      "needs_background": "light"
     },
     "output_type": "display_data"
    }
   ],
   "source": [
    "def plot_documents_by_year(df, set_xticks, y_ticks):\n",
    "\n",
    "    dff = df.copy()\n",
    "    scopus, science, pubmed, arxiv = [],[],[],[]\n",
    "\n",
    "    for i in np.unique(dff.year):\n",
    "        scopus.append(dff[(dff.year==i)&(dff.source=='scopus')].shape[0])\n",
    "        science.append(dff[(dff.year==i)&(dff.source=='sciencedirect')].shape[0])\n",
    "        pubmed.append(dff[(dff.year==i)&(dff.source=='pubmed')].shape[0])\n",
    "        arxiv.append(dff[(dff.year==i)&(dff.source=='arxiv')].shape[0])\n",
    "\n",
    "    width = 0.60\n",
    "    fig = plt.figure()\n",
    "    ax = fig.add_axes([0,0,1,1])\n",
    "    ind = np.arange(len(np.unique(dff.year))) \n",
    "    ax.bar(ind, scopus, width, color='tab:red')\n",
    "    ax.bar(ind, science, width,bottom=scopus, color='tab:green')\n",
    "    ax.bar(ind, pubmed, width,bottom=scopus, color='tab:orange')\n",
    "    ax.bar(ind, arxiv, width, bottom=science, color='tab:blue')\n",
    "    ax.set_ylabel('Counts')\n",
    "    ax.set_title('Documents by year')\n",
    "    ax.set_xticks(ind,set_xticks)\n",
    "    ax.set_yticks(y_ticks)\n",
    "    ax.legend(labels=['Scopus', 'ScienceDirect','PubMed','arXiv'])\n",
    "    plt.show()\n",
    "    \n",
    "plot_documents_by_year(df=df, \n",
    "                       set_xticks=('2012','2013','2014','2015','2016','2017', '2018', '2019', '2020', '2021', '2022'),\n",
    "                       y_ticks=np.arange(0, 1000, 100),\n",
    "                       )"
   ]
  },
  {
   "cell_type": "markdown",
   "id": "f0ec0783",
   "metadata": {},
   "source": [
    "### Phase 2: perform queries\n",
    "\n",
    "- Inclusion: Paper containing keywords: *EEG* AND\n",
    "(abnormal\\* OR patholog\\* OR classif\\* OR detect\\* OR decod\\* OR network\\* OR \\*learning)\n",
    "\n",
    "- Exclusion: Paper containing keywords:\n",
    "(abnormal\\* OR patholog\\*)"
   ]
  },
  {
   "cell_type": "code",
   "execution_count": 4,
   "id": "56095c08",
   "metadata": {},
   "outputs": [
    {
     "name": "stdout",
     "output_type": "stream",
     "text": [
      "Papers after inclusion criteria:  502\n",
      "Papers after exclusion criteria:  370\n"
     ]
    },
    {
     "name": "stderr",
     "output_type": "stream",
     "text": [
      "<ipython-input-4-38ed0e4df300>:10: UserWarning: Boolean Series key will be reindexed to match DataFrame index.\n",
      "  df_exclusion = df_inclusion[~E13]\n"
     ]
    }
   ],
   "source": [
    "def Q(word):return df.title.str.contains(word)==True\n",
    "\n",
    "# Include/Exclude Queries\n",
    "I1 = (Q('eeg')&(Q('class')|Q('decod')|Q('detect')|Q('neural')|Q('learning')))\n",
    "I2 = (Q('abnormal')|Q('patholog'))\n",
    "E13 = (Q('ecg')|Q('emg')|Q('mri')|Q('pcg')|Q('multi-class')|Q('multi-label')|\\\n",
    "       Q('real-time')|Q('seizure')|Q('bci')|Q('behavior')|Q('motor'))\n",
    "\n",
    "df_inclusion = pd.concat([df[I1],df[I2]]).drop_duplicates()\n",
    "df_exclusion = df_inclusion[~E13]\n",
    "print('Papers after inclusion criteria: ',len(df_inclusion))\n",
    "print('Papers after exclusion criteria: ',len(df_exclusion))"
   ]
  },
  {
   "cell_type": "code",
   "execution_count": 5,
   "id": "ca04b5fc",
   "metadata": {},
   "outputs": [],
   "source": [
    "df_exclusion.to_csv('search_result1.csv', index=False)"
   ]
  },
  {
   "cell_type": "markdown",
   "id": "9adb05e5",
   "metadata": {},
   "source": [
    "### Phase 3: assess eligibility\n",
    "\n",
    "We assessed the eligibility of the papers by reading the titles and scanning their abstracts (note that the abstract has not been added to the dataframe to reduce the size) \n",
    "\n",
    "- Filter papers that do not describe any EEG classification/EEG pathology decoding task.\n",
    "- Read all abstracts, scan full text and include papers that focuss on a binary classification problems.\n",
    "\n",
    "The resulting papers were saved to the following csv-file:"
   ]
  },
  {
   "cell_type": "code",
   "execution_count": 6,
   "id": "3dca1e4e",
   "metadata": {},
   "outputs": [
    {
     "name": "stdout",
     "output_type": "stream",
     "text": [
      "Total papers: 195\n"
     ]
    },
    {
     "data": {
      "text/html": [
       "<div>\n",
       "<style scoped>\n",
       "    .dataframe tbody tr th:only-of-type {\n",
       "        vertical-align: middle;\n",
       "    }\n",
       "\n",
       "    .dataframe tbody tr th {\n",
       "        vertical-align: top;\n",
       "    }\n",
       "\n",
       "    .dataframe thead th {\n",
       "        text-align: right;\n",
       "    }\n",
       "</style>\n",
       "<table border=\"1\" class=\"dataframe\">\n",
       "  <thead>\n",
       "    <tr style=\"text-align: right;\">\n",
       "      <th></th>\n",
       "      <th>new_id</th>\n",
       "      <th>old_id</th>\n",
       "      <th>ref</th>\n",
       "      <th>title</th>\n",
       "      <th>authors</th>\n",
       "      <th>journal</th>\n",
       "      <th>year</th>\n",
       "      <th>source</th>\n",
       "      <th>phase1</th>\n",
       "      <th>phase2</th>\n",
       "      <th>epilepsy</th>\n",
       "      <th>alzheimer</th>\n",
       "      <th>schizophrenia</th>\n",
       "      <th>parkinson</th>\n",
       "      <th>depression</th>\n",
       "      <th>sleepstage</th>\n",
       "      <th>generalpathology</th>\n",
       "    </tr>\n",
       "  </thead>\n",
       "  <tbody>\n",
       "    <tr>\n",
       "      <th>0</th>\n",
       "      <td>1</td>\n",
       "      <td>11</td>\n",
       "      <td>sadiq</td>\n",
       "      <td>a novel computer-aided diagnosis framework for...</td>\n",
       "      <td>muhammad tariq sadiq, hesam akbari, siuly siul...</td>\n",
       "      <td>computers in biology and medicine,</td>\n",
       "      <td>2021</td>\n",
       "      <td>sciencedirect</td>\n",
       "      <td>1</td>\n",
       "      <td>0</td>\n",
       "      <td>0</td>\n",
       "      <td>0</td>\n",
       "      <td>0</td>\n",
       "      <td>0</td>\n",
       "      <td>0</td>\n",
       "      <td>0</td>\n",
       "      <td>0</td>\n",
       "    </tr>\n",
       "    <tr>\n",
       "      <th>1</th>\n",
       "      <td>2</td>\n",
       "      <td>57</td>\n",
       "      <td>bajpai</td>\n",
       "      <td>automated eeg pathology detection based on dif...</td>\n",
       "      <td>bajpai r., yuvaraj r., prince a.a.</td>\n",
       "      <td>computers in biology and medicine</td>\n",
       "      <td>2021</td>\n",
       "      <td>scopus</td>\n",
       "      <td>1</td>\n",
       "      <td>1</td>\n",
       "      <td>0</td>\n",
       "      <td>0</td>\n",
       "      <td>0</td>\n",
       "      <td>0</td>\n",
       "      <td>0</td>\n",
       "      <td>0</td>\n",
       "      <td>1</td>\n",
       "    </tr>\n",
       "    <tr>\n",
       "      <th>2</th>\n",
       "      <td>3</td>\n",
       "      <td>65</td>\n",
       "      <td>rocca</td>\n",
       "      <td>automatic detection of eeg epileptiform abnorm...</td>\n",
       "      <td>faghihpirayesh r., ruf s., rocca m.l., garner ...</td>\n",
       "      <td>proceedings of the annual international confer...</td>\n",
       "      <td>2021</td>\n",
       "      <td>scopus</td>\n",
       "      <td>1</td>\n",
       "      <td>1</td>\n",
       "      <td>1</td>\n",
       "      <td>0</td>\n",
       "      <td>0</td>\n",
       "      <td>0</td>\n",
       "      <td>0</td>\n",
       "      <td>0</td>\n",
       "      <td>0</td>\n",
       "    </tr>\n",
       "    <tr>\n",
       "      <th>3</th>\n",
       "      <td>4</td>\n",
       "      <td>69</td>\n",
       "      <td>sansegundo</td>\n",
       "      <td>classification of epileptic eeg recordings usi...</td>\n",
       "      <td>rubén san-segundo, manuel gil-martín, luis fer...</td>\n",
       "      <td>computers in biology and medicine,</td>\n",
       "      <td>2019</td>\n",
       "      <td>sciencedirect</td>\n",
       "      <td>1</td>\n",
       "      <td>1</td>\n",
       "      <td>1</td>\n",
       "      <td>0</td>\n",
       "      <td>0</td>\n",
       "      <td>0</td>\n",
       "      <td>0</td>\n",
       "      <td>0</td>\n",
       "      <td>0</td>\n",
       "    </tr>\n",
       "    <tr>\n",
       "      <th>4</th>\n",
       "      <td>5</td>\n",
       "      <td>82</td>\n",
       "      <td>kumar</td>\n",
       "      <td>local pattern transformation based feature ext...</td>\n",
       "      <td>abeg kumar jaiswal, haider banka,</td>\n",
       "      <td>biomedical signal processing and control,</td>\n",
       "      <td>2017</td>\n",
       "      <td>sciencedirect</td>\n",
       "      <td>1</td>\n",
       "      <td>0</td>\n",
       "      <td>1</td>\n",
       "      <td>0</td>\n",
       "      <td>0</td>\n",
       "      <td>0</td>\n",
       "      <td>0</td>\n",
       "      <td>0</td>\n",
       "      <td>0</td>\n",
       "    </tr>\n",
       "  </tbody>\n",
       "</table>\n",
       "</div>"
      ],
      "text/plain": [
       "   new_id  old_id         ref  \\\n",
       "0       1      11       sadiq   \n",
       "1       2      57      bajpai   \n",
       "2       3      65       rocca   \n",
       "3       4      69  sansegundo   \n",
       "4       5      82       kumar   \n",
       "\n",
       "                                               title  \\\n",
       "0  a novel computer-aided diagnosis framework for...   \n",
       "1  automated eeg pathology detection based on dif...   \n",
       "2  automatic detection of eeg epileptiform abnorm...   \n",
       "3  classification of epileptic eeg recordings usi...   \n",
       "4  local pattern transformation based feature ext...   \n",
       "\n",
       "                                             authors  \\\n",
       "0  muhammad tariq sadiq, hesam akbari, siuly siul...   \n",
       "1                 bajpai r., yuvaraj r., prince a.a.   \n",
       "2  faghihpirayesh r., ruf s., rocca m.l., garner ...   \n",
       "3  rubén san-segundo, manuel gil-martín, luis fer...   \n",
       "4                  abeg kumar jaiswal, haider banka,   \n",
       "\n",
       "                                             journal  year         source  \\\n",
       "0                 computers in biology and medicine,  2021  sciencedirect   \n",
       "1                  computers in biology and medicine  2021         scopus   \n",
       "2  proceedings of the annual international confer...  2021         scopus   \n",
       "3                 computers in biology and medicine,  2019  sciencedirect   \n",
       "4          biomedical signal processing and control,  2017  sciencedirect   \n",
       "\n",
       "   phase1  phase2  epilepsy  alzheimer  schizophrenia  parkinson  depression  \\\n",
       "0       1       0         0          0              0          0           0   \n",
       "1       1       1         0          0              0          0           0   \n",
       "2       1       1         1          0              0          0           0   \n",
       "3       1       1         1          0              0          0           0   \n",
       "4       1       0         1          0              0          0           0   \n",
       "\n",
       "   sleepstage  generalpathology  \n",
       "0           0                 0  \n",
       "1           0                 1  \n",
       "2           0                 0  \n",
       "3           0                 0  \n",
       "4           0                 0  "
      ]
     },
     "execution_count": 6,
     "metadata": {},
     "output_type": "execute_result"
    }
   ],
   "source": [
    "df = pd.read_csv('search_result2.csv', index_col=False)\n",
    "print('Total papers:',df.shape[0])\n",
    "df.head(5)"
   ]
  },
  {
   "cell_type": "code",
   "execution_count": 7,
   "id": "b9d0842c",
   "metadata": {},
   "outputs": [
    {
     "data": {
      "image/png": "[encoded data removed]",
      "text/plain": [
       "<Figure size 432x288 with 1 Axes>"
      ]
     },
     "metadata": {
      "needs_background": "light"
     },
     "output_type": "display_data"
    }
   ],
   "source": [
    "plot_documents_by_year(df=df, \n",
    "                       set_xticks=('2012','2015','2016','2017', '2018', '2019', '2020', '2021', '2022'),\n",
    "                       y_ticks=np.arange(0, 80, 20),\n",
    "                       )"
   ]
  },
  {
   "cell_type": "markdown",
   "id": "cc8c6a6e",
   "metadata": {},
   "source": [
    "### Phase 4: full text reading\n",
    "\n",
    "The full text was read from each paper selected in phase 2, and only papers related to pathology decoding were selected in phase 3. This resulted in 114 discarded papers:"
   ]
  },
  {
   "cell_type": "code",
   "execution_count": 8,
   "id": "67ea63a4",
   "metadata": {},
   "outputs": [
    {
     "name": "stdout",
     "output_type": "stream",
     "text": [
      "Papers after phase 2:  195\n",
      "Papers after phase 3:  81\n"
     ]
    }
   ],
   "source": [
    "print('Papers after phase 2: ',df[df.phase1==1].shape[0])\n",
    "print('Papers after phase 3: ',df[df.phase2==1].shape[0])"
   ]
  },
  {
   "cell_type": "markdown",
   "id": "0bc05c24",
   "metadata": {},
   "source": [
    "While reading these papers, the following classifications were made:"
   ]
  },
  {
   "cell_type": "code",
   "execution_count": 9,
   "id": "b0e153d9",
   "metadata": {},
   "outputs": [
    {
     "name": "stdout",
     "output_type": "stream",
     "text": [
      "Papers focused on epilepsy:  15\n",
      "Papers focused on alzheimer:  2\n",
      "Papers focused on schizophrenia:  17\n",
      "Papers focused on parkinson:  2\n",
      "Papers focused on depression:  3\n",
      "Papers focused on general pathology:  20\n",
      "Papers focused on other tasks:  22\n"
     ]
    }
   ],
   "source": [
    "print('Papers focused on epilepsy: ', len(df[(df.phase2==1)&(df.epilepsy==1)]))\n",
    "print('Papers focused on alzheimer: ',len(df[(df.phase2==1)&(df.alzheimer==1)]))\n",
    "print('Papers focused on schizophrenia: ',len(df[(df.phase2==1)&(df.schizophrenia==1)]))\n",
    "print('Papers focused on parkinson: ',len(df[(df.phase2==1)&(df.parkinson==1)]))\n",
    "print('Papers focused on depression: ',len(df[(df.phase2==1)&(df.depression==1)]))\n",
    "print('Papers focused on general pathology: ',len(df[(df.phase2==1)&(df.generalpathology==1)]))\n",
    "print('Papers focused on other tasks: ',int(df[df.phase2==1].shape[0])-59)"
   ]
  },
  {
   "cell_type": "code",
   "execution_count": 10,
   "id": "9e952927",
   "metadata": {},
   "outputs": [],
   "source": [
    "df_classified_groups = df[(df.epilepsy==1)|(df.alzheimer==1)|\\\n",
    "         (df.schizophrenia==1)|(df.parkinson==1)|\\\n",
    "         (df.depression==1)|(df.generalpathology==1)]"
   ]
  },
  {
   "cell_type": "code",
   "execution_count": 11,
   "id": "91365cb6",
   "metadata": {},
   "outputs": [],
   "source": [
    "def generate_meta_components(df):\n",
    "    \n",
    "    ids = [str(i) for i in range(len(df))]\n",
    "    refs = df.ref.values\n",
    "    meta = [{'data': {'id': refs[i], 'label':ids[i]}, 'position': {'x': 20, 'y': 20}} for i in range(len(df))]\n",
    "\n",
    "    meta.append({'data': {'id': 'Epilepsy', 'label':'epilepsy_'}, 'position': {'x': 80, 'y': 90}})\n",
    "    meta.append({'data': {'id': 'Alzheimer', 'label':'alzheimer_'}, 'position': {'x': 10, 'y': 5}})\n",
    "    meta.append({'data': {'id': 'Schizophrenia', 'label':'schizophrenia_'}, 'position': {'x': 30, 'y': 40}})\n",
    "    meta.append({'data': {'id': 'Parkinson', 'label':'parkinson_'}, 'position': {'x': 20, 'y': 70}})\n",
    "    meta.append({'data': {'id': 'Depression', 'label':'depression_'}, 'position': {'x': 50, 'y': 50}})\n",
    "    meta.append({'data': {'id': 'GeneralPathology', 'label':'generalpathology_'}, 'position': {'x': 10, 'y': 20}})\n",
    "      \n",
    "    for i in [str(i) for i in df[df.epilepsy==1].ref]:\n",
    "        meta.append({'data': {'source': i, 'target': 'Epilepsy','label': 'epilepsy_' + i}})\n",
    "    for i in [str(i) for i in df[df.alzheimer==1].ref]:\n",
    "        meta.append({'data': {'source': i, 'target': 'Alzheimer','label': 'alzheimer_' + i}})\n",
    "    for i in [str(i) for i in df[df.schizophrenia==1].ref]:\n",
    "        meta.append({'data': {'source': i, 'target': 'Schizophrenia','label': 'schizophrenia_' + i}})\n",
    "    for i in [str(i) for i in df[df.parkinson==1].ref]:\n",
    "        meta.append({'data': {'source': i, 'target': 'Parkinson','label': 'parkinson_' + i}})\n",
    "    for i in [str(i) for i in df[df.depression==1].ref]:\n",
    "        meta.append({'data': {'source': i, 'target': 'Depression','label': 'depression_' + i}})\n",
    "    for i in [str(i) for i in df[df.generalpathology==1].ref]:\n",
    "        meta.append({'data': {'source': i, 'target': 'GeneralPathology','label': 'generalpathology_' + i}})\n",
    "     \n",
    "    style = [{'selector': 'node','style': {'label': 'data(id)'}},\n",
    "            {'selector': 'edge','style': {'curve-style': 'bezier'}},\n",
    "            {'selector':'#Epilepsy','style':{'background-color': '#FFCC00',\"border-color\": \"#FFCC00\",\"border-width\": 2,\"border-opacity\": 1,\"opacity\": 1}},\n",
    "            {'selector':'#Alzheimer','style':{'background-color': '#99ff00',\"border-color\": \"#99ff00\",\"border-width\": 2,\"border-opacity\": 1,\"opacity\": 1}},\n",
    "            {'selector':'#Schizophrenia','style':{'background-color': '#2c57a8',\"border-color\": \"#2c57a8\",\"border-width\": 2,\"border-opacity\": 1,\"opacity\": 1}},\n",
    "            {'selector':'#Parkinson','style':{'background-color': '#36CBF0',\"border-color\": \"#36CBF0\",\"border-width\": 2,\"border-opacity\": 1,\"opacity\": 1}},\n",
    "            {'selector':'#Depression','style':{'background-color': '#F03E36',\"border-color\": \"#F03E36\",\"border-width\": 2,\"border-opacity\": 1,\"opacity\": 1}},\n",
    "            {'selector':'#GeneralPathology','style':{'background-color': '#FF33F6',\"border-color\": \"#FF33F6\",\"border-width\": 2,\"border-opacity\": 1,\"opacity\": 1}}]\n",
    "        \n",
    "    for i in refs:\n",
    "        style.append({'selector': '#'+i,'style': {'source-arrow-color': '#ffeded','source-arrow-shape': 'vee','line-color': '#ffeded'}})\n",
    "    return meta, style"
   ]
  },
  {
   "cell_type": "code",
   "execution_count": 12,
   "id": "1df314a2",
   "metadata": {},
   "outputs": [
    {
     "name": "stderr",
     "output_type": "stream",
     "text": [
      "<ipython-input-12-d363a5ac026f>:7: UserWarning: \n",
      "The dash_html_components package is deprecated. Please replace\n",
      "`import dash_html_components as html` with `from dash import html`\n",
      "  import dash_html_components as html\n"
     ]
    },
    {
     "data": {
      "text/html": [
       "\n",
       "        <iframe\n",
       "            width=\"100%\"\n",
       "            height=\"650\"\n",
       "            src=\"http://127.0.0.1:8050/\"\n",
       "            frameborder=\"0\"\n",
       "            allowfullscreen\n",
       "        ></iframe>\n",
       "        "
      ],
      "text/plain": [
       "<IPython.lib.display.IFrame at 0x7f81ca6bc4c0>"
      ]
     },
     "metadata": {},
     "output_type": "display_data"
    }
   ],
   "source": [
    "#!pip install jupyter-dash\n",
    "#!pip install dash-cytoscape\n",
    "#!pip install dash-html-components\n",
    "\n",
    "from jupyter_dash import JupyterDash\n",
    "import dash_cytoscape as cyto\n",
    "import dash_html_components as html\n",
    "\n",
    "meta, style = generate_meta_components(df_classified_groups)\n",
    "\n",
    "app = JupyterDash(__name__)\n",
    "\n",
    "app.layout = html.Div([\n",
    "    \n",
    "cyto.Cytoscape(\n",
    "        id='cytoscape-styling-9',\n",
    "        layout={'name': 'cose'},  #circle, grid, concentric\n",
    "        style={'width': '100%', 'height': '700px'},\n",
    "        elements=meta,\n",
    "        stylesheet=style,\n",
    "    )\n",
    "])\n",
    "app.run_server(mode='inline')"
   ]
  },
  {
   "cell_type": "code",
   "execution_count": null,
   "id": "e6438e39",
   "metadata": {},
   "outputs": [],
   "source": []
  }
 ],
 "metadata": {
  "kernelspec": {
   "display_name": "Python 3",
   "language": "python",
   "name": "python3"
  },
  "language_info": {
   "codemirror_mode": {
    "name": "ipython",
    "version": 3
   },
   "file_extension": ".py",
   "mimetype": "text/x-python",
   "name": "python",
   "nbconvert_exporter": "python",
   "pygments_lexer": "ipython3",
   "version": "3.8.8"
  }
 },
 "nbformat": 4,
 "nbformat_minor": 5
}
